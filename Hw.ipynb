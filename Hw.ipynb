{
  "nbformat": 4,
  "nbformat_minor": 0,
  "metadata": {
    "colab": {
      "name": "Hw.ipynb",
      "provenance": [],
      "collapsed_sections": [],
      "include_colab_link": true
    },
    "kernelspec": {
      "name": "python3",
      "display_name": "Python 3"
    },
    "accelerator": "GPU"
  },
  "cells": [
    {
      "cell_type": "markdown",
      "metadata": {
        "id": "view-in-github",
        "colab_type": "text"
      },
      "source": [
        "<a href=\"https://colab.research.google.com/github/RomulusGwelt/AngularProject/blob/master/Hw.ipynb\" target=\"_parent\"><img src=\"https://colab.research.google.com/assets/colab-badge.svg\" alt=\"Open In Colab\"/></a>"
      ]
    },
    {
      "cell_type": "markdown",
      "metadata": {
        "id": "DFyOVMegtY9M",
        "colab_type": "text"
      },
      "source": [
        "Downloading data \n",
        "\n",
        "Note: You need to upload kaggle API token for the following cell\n",
        "\n",
        "\n",
        "\n"
      ]
    },
    {
      "cell_type": "code",
      "metadata": {
        "id": "Bj0IDStK-iYK",
        "colab_type": "code",
        "cellView": "code",
        "colab": {}
      },
      "source": [
        "#@title Default title text\n",
        "# !unzip test.zip\n",
        "# !unzip train.zip\n",
        "\n",
        "# Let's make sure the kaggle.json file is present.\n",
        "!ls -lha kaggle.json\n",
        "# Next, install the Kaggle API client.\n",
        "!pip install -q kaggle\n",
        "\n",
        "# The Kaggle API client expects this file to be in ~/.kaggle,\n",
        "# so move it there.\n",
        "!mkdir -p ~/.kaggle\n",
        "!cp kaggle.json ~/.kaggle/\n",
        "\n",
        "# This permissions change avoids a warning on Kaggle tool startup.\n",
        "!chmod 600 ~/.kaggle/kaggle.json\n",
        "\n",
        "#download the dataset for the dog-breed identification challenge https://www.kaggle.com/c/dog-breed-identification\n",
        "!kaggle competitions download -c dog-breed-identification\n",
        "\n",
        "#unzip the downloaded files\n",
        "!unzip test.zip\n",
        "!unzip train.zip\n"
      ],
      "execution_count": 0,
      "outputs": []
    },
    {
      "cell_type": "code",
      "metadata": {
        "id": "rOYfhjl1AR3r",
        "colab_type": "code",
        "colab": {}
      },
      "source": [
        "\n",
        "# !pip uninstall tensorflow\n",
        "# !pip install tensorflow-gpu\n",
        "\n",
        "from pydrive.auth import GoogleAuth\n",
        "from pydrive.drive import GoogleDrive\n",
        "from google.colab import auth, files\n",
        "from oauth2client.client import GoogleCredentials\n",
        "from mpl_toolkits.mplot3d import Axes3D\n",
        "from sklearn.preprocessing import StandardScaler\n",
        "from keras_preprocessing.image import ImageDataGenerator\n",
        "\n",
        "import matplotlib.pyplot as plt \n",
        "import matplotlib.image as mpimg\n",
        "\n",
        "import numpy as np \n",
        "import pandas as pd \n",
        "\n",
        "from keras.models import Sequential, Model\n",
        "from keras.layers import Dense, Dropout, Flatten, Conv2D, MaxPooling2D, GlobalAveragePooling2D\n",
        "import keras\n",
        "from math import ceil\n",
        "from keras.applications.mobilenet_v2 import MobileNetV2\n",
        "from keras.applications.resnet50 import ResNet50\n",
        "from keras.applications.inception_v3 import InceptionV3\n",
        "# from keras.applications.inception_v3 import preprocess_input\n",
        "# from keras.applications.resnet50 import preprocess_input\n",
        "from keras.applications.xception import preprocess_input\n",
        "import os \n",
        "import tensorflow as tf\n",
        "from tensorflow.python.client import device_lib\n",
        "from keras.callbacks import EarlyStopping, ModelCheckpoint\n",
        "from cyclicLR import CyclicLR\n",
        "from keras.optimizers import Adam, SGD, RMSprop\n",
        "import datetime\n",
        "from keras.applications import xception\n",
        "# print(device_lib.list_local_devices())\n",
        "# sess = tf.Session(config=tf.ConfigProto(log_device_placement=True))\n",
        "# import tensorflow.compat.v1 as tf\n",
        "# tf.disable_v2_behavior()"
      ],
      "execution_count": 0,
      "outputs": []
    },
    {
      "cell_type": "markdown",
      "metadata": {
        "id": "3Iy5DyZArkj7",
        "colab_type": "text"
      },
      "source": [
        "CyclicLR can be found at my google drive or https://github.com/bckenstler/CLR"
      ]
    },
    {
      "cell_type": "code",
      "metadata": {
        "id": "Tv1EORFB5OTm",
        "colab_type": "code",
        "outputId": "b80be97c-60ea-461e-bac4-b082891da459",
        "colab": {
          "base_uri": "https://localhost:8080/",
          "height": 34
        }
      },
      "source": [
        "print(tf.__version__)"
      ],
      "execution_count": 0,
      "outputs": [
        {
          "output_type": "stream",
          "text": [
            "1.15.0\n"
          ],
          "name": "stdout"
        }
      ]
    },
    {
      "cell_type": "code",
      "metadata": {
        "id": "l4igtf3Mj4GI",
        "colab_type": "code",
        "colab": {}
      },
      "source": [
        "auth.authenticate_user()\n",
        "gauth = GoogleAuth()\n",
        "gauth.credentials = GoogleCredentials.get_application_default()\n",
        "drive = GoogleDrive(gauth)"
      ],
      "execution_count": 0,
      "outputs": []
    },
    {
      "cell_type": "code",
      "metadata": {
        "id": "8URqgOGdaEv5",
        "colab_type": "code",
        "colab": {}
      },
      "source": [
        ""
      ],
      "execution_count": 0,
      "outputs": []
    },
    {
      "cell_type": "code",
      "metadata": {
        "id": "c9aAS0DUkn6P",
        "colab_type": "code",
        "colab": {}
      },
      "source": [
        "# file_list = drive.ListFile({'q': \"'16WevdpbCzQCiuKAeI3KP94BVzgGtcOox' in parents and trashed=false\"}).GetList()\n",
        "# file_list = drive.ListFile({'q': \"'1s6iF8UJCONyJrkArmIUbOj5QRDO39vbg' in parents and trashed=false\"}).GetList()\n",
        "# for file1 in file_list:\n",
        "#   print('title: %s, id: %s' % (file1['title'], file1['id']))"
      ],
      "execution_count": 0,
      "outputs": []
    },
    {
      "cell_type": "code",
      "metadata": {
        "id": "iU5BeD94WC8R",
        "colab_type": "code",
        "outputId": "ac7b7c30-0544-47a3-e56c-da86ec1dee04",
        "colab": {
          "base_uri": "https://localhost:8080/",
          "height": 34
        }
      },
      "source": [
        "link = 'https://drive.google.com/open?id=1XdEL-x4jM5ZeYPzpWQjWQtbh2ydMKen8'\n",
        "fluff, id = link.split('=')\n",
        "print (id)"
      ],
      "execution_count": 0,
      "outputs": [
        {
          "output_type": "stream",
          "text": [
            "1XdEL-x4jM5ZeYPzpWQjWQtbh2ydMKen8\n"
          ],
          "name": "stdout"
        }
      ]
    },
    {
      "cell_type": "code",
      "metadata": {
        "id": "YOD6pTAlW-0w",
        "colab_type": "code",
        "outputId": "773bea8e-3410-49b3-9e53-6482d432e69e",
        "colab": {
          "base_uri": "https://localhost:8080/",
          "height": 153
        }
      },
      "source": [
        "downloaded = drive.CreateFile({'id':id}) \n",
        "downloaded.GetContentFile('labels.csv')  \n",
        "ds = pd.read_csv('labels.csv')\n",
        "ds['image'] = ds.apply(lambda row: str(row['id']) + \".jpg\", axis=1)\n",
        "ds = ds.sample(frac=1).reset_index(drop=True)\n",
        "ds.head(10)\n",
        "\n",
        "print(ds.head())\n"
      ],
      "execution_count": 0,
      "outputs": [
        {
          "output_type": "stream",
          "text": [
            "                                 id  ...                                 image\n",
            "0  5811c9b5aa472c3596347c4467d9acd6  ...  5811c9b5aa472c3596347c4467d9acd6.jpg\n",
            "1  b58abe0f8254c308bb3334e5784caf91  ...  b58abe0f8254c308bb3334e5784caf91.jpg\n",
            "2  4a48d6eef7b4ae5e9eaed28d5b1bba73  ...  4a48d6eef7b4ae5e9eaed28d5b1bba73.jpg\n",
            "3  322068ec9053585edd2ccc29228b08e8  ...  322068ec9053585edd2ccc29228b08e8.jpg\n",
            "4  20d7b779380e37618be8a4e608f160e3  ...  20d7b779380e37618be8a4e608f160e3.jpg\n",
            "\n",
            "[5 rows x 3 columns]\n"
          ],
          "name": "stdout"
        }
      ]
    },
    {
      "cell_type": "code",
      "metadata": {
        "id": "yUCmCwaYXcUg",
        "colab_type": "code",
        "colab": {}
      },
      "source": [
        "batch_size = 16"
      ],
      "execution_count": 0,
      "outputs": []
    },
    {
      "cell_type": "code",
      "metadata": {
        "id": "uDniPnB1Em6w",
        "colab_type": "code",
        "outputId": "02b79d5e-88ff-439c-ebce-a2160443af99",
        "colab": {
          "base_uri": "https://localhost:8080/",
          "height": 122
        }
      },
      "source": [
        "from google.colab import drive\n",
        "drive.mount('/content/gdrive')\n"
      ],
      "execution_count": 0,
      "outputs": [
        {
          "output_type": "stream",
          "text": [
            "Go to this URL in a browser: https://accounts.google.com/o/oauth2/auth?client_id=947318989803-6bn6qk8qdgf4n4g3pfee6491hc0brc4i.apps.googleusercontent.com&redirect_uri=urn%3aietf%3awg%3aoauth%3a2.0%3aoob&response_type=code&scope=email%20https%3a%2f%2fwww.googleapis.com%2fauth%2fdocs.test%20https%3a%2f%2fwww.googleapis.com%2fauth%2fdrive%20https%3a%2f%2fwww.googleapis.com%2fauth%2fdrive.photos.readonly%20https%3a%2f%2fwww.googleapis.com%2fauth%2fpeopleapi.readonly\n",
            "\n",
            "Enter your authorization code:\n",
            "··········\n",
            "Mounted at /content/gdrive\n"
          ],
          "name": "stdout"
        }
      ]
    },
    {
      "cell_type": "code",
      "metadata": {
        "id": "thvCiGwwXc0n",
        "colab_type": "code",
        "outputId": "d57eae50-f013-45a6-bb76-a766c7e13136",
        "colab": {
          "base_uri": "https://localhost:8080/",
          "height": 51
        }
      },
      "source": [
        "\n",
        "image_generator = ImageDataGenerator(\n",
        "    # rescale=1./255,\n",
        "    preprocessing_function=preprocess_input,\n",
        "    rotation_range=45,\n",
        "    width_shift_range=0.2,\n",
        "    height_shift_range=0.2,\n",
        "    shear_range=0.2,\n",
        "    zoom_range=0.2,\n",
        "    horizontal_flip=True,\n",
        "    fill_mode='nearest',\n",
        "    validation_split=0.1\n",
        ")\n",
        "\n",
        "training_generator = image_generator.flow_from_dataframe(\n",
        "    dataframe=ds,\n",
        "    directory=\"train\",\n",
        "    # directory=\"/content/gdrive/My Drive/Colab Notebooks/train\",\n",
        "    x_col=\"image\",\n",
        "    y_col=\"breed\",\n",
        "    target_size=(299,299),\n",
        "    batch_size=batch_size,\n",
        "    subset=\"training\"\n",
        ")\n",
        "\n",
        "validation_generator = image_generator.flow_from_dataframe(\n",
        "    dataframe=ds,\n",
        "    directory=\"train\",\n",
        "    # directory=\"/content/gdrive/My Drive/Colab Notebooks/train\",\n",
        "    x_col=\"image\",\n",
        "    y_col=\"breed\",\n",
        "    target_size=(299,299),\n",
        "    batch_size=batch_size,\n",
        "    subset=\"validation\"\n",
        ")"
      ],
      "execution_count": 0,
      "outputs": [
        {
          "output_type": "stream",
          "text": [
            "Found 9200 validated image filenames belonging to 120 classes.\n",
            "Found 1022 validated image filenames belonging to 120 classes.\n"
          ],
          "name": "stdout"
        }
      ]
    },
    {
      "cell_type": "code",
      "metadata": {
        "id": "ynCEaoeEarXE",
        "colab_type": "code",
        "colab": {}
      },
      "source": [
        "input_shape = (299, 299, 3)\n",
        "\n",
        "classes = len(training_generator.class_indices)"
      ],
      "execution_count": 0,
      "outputs": []
    },
    {
      "cell_type": "code",
      "metadata": {
        "id": "zwGb0yDpavMn",
        "colab_type": "code",
        "colab": {}
      },
      "source": [
        "# base_model = MobileNetV2(input_shape=input_shape, include_top=False, weights='imagenet')\n",
        "# base_model = ResNet50(input_shape=input_shape, include_top=False, weights='imagenet')\n",
        "# base_model = InceptionV3(input_shape=input_shape, include_top=False, weights='imagenet')\n",
        "base_model = xception.Xception(input_shape=input_shape, weights='imagenet', include_top=False)\n",
        "\n",
        "x = base_model.output\n",
        "x = GlobalAveragePooling2D()(x)\n",
        "x = Dropout(0.5)(x)\n",
        "x = Dense(1024, activation='relu')(x)\n",
        "x = Dropout(0.5)(x)\n",
        "predictions = Dense(classes, activation='softmax')(x)\n",
        "\n",
        "model = Model(inputs=base_model.input, outputs=predictions)"
      ],
      "execution_count": 0,
      "outputs": []
    },
    {
      "cell_type": "code",
      "metadata": {
        "id": "SaiZzSWZsux1",
        "colab_type": "code",
        "colab": {}
      },
      "source": [
        "# checkpoints\n",
        "early_stopping = EarlyStopping(monitor='val_acc', patience=5)\n",
        "STAMP = \"{}_dog_breed_model\".format(datetime.date.today().strftime(\"%Y-%m-%d\"))\n",
        "\n",
        "bst_model_path = \"models/{}.h5\".format(STAMP)\n",
        "model_checkpoint = ModelCheckpoint(bst_model_path,\n",
        "                                   save_best_only=True,\n",
        "                                   save_weights_only=True)\n",
        "\n",
        "# Authors suggest setting step_size = (2-8) x (training iterations in epoch)\n",
        "step_size = 2000\n",
        "clr = CyclicLR(base_lr=0.0001,\n",
        "               max_lr=0.001,\n",
        "               step_size=step_size,\n",
        "               mode='exp_range',\n",
        "               gamma=0.99994)"
      ],
      "execution_count": 0,
      "outputs": []
    },
    {
      "cell_type": "code",
      "metadata": {
        "id": "lfJbbKV0s7DT",
        "colab_type": "code",
        "colab": {}
      },
      "source": [
        "for layer in base_model.layers:\n",
        "    layer.trainable = False\n",
        "\n",
        "optimizer = RMSprop(lr=0.001, rho=0.9)\n",
        "# model.compile(loss=keras.losses.categorical_crossentropy,\n",
        "#               optimizer=keras.optimizers.Adadelta(),\n",
        "#               metrics=['accuracy'])\n",
        "\n",
        "model.compile(optimizer=optimizer,\n",
        "              # loss='sparse_categorical_crossentropy',\n",
        "              loss = keras.losses.categorical_crossentropy,\n",
        "              metrics=[\"accuracy\"])"
      ],
      "execution_count": 0,
      "outputs": []
    },
    {
      "cell_type": "code",
      "metadata": {
        "id": "hth2UZJ7swhK",
        "colab_type": "code",
        "outputId": "267b83f6-846f-406b-d19b-8eee2398cc4a",
        "colab": {
          "base_uri": "https://localhost:8080/",
          "height": 595
        }
      },
      "source": [
        "hist = model.fit_generator(\n",
        "                           generator=training_generator,\n",
        "                           steps_per_epoch=ceil(0.8 * (ds.size / batch_size)),\n",
        "                           \n",
        "                           validation_data=validation_generator,\n",
        "                           validation_steps=ceil(0.2 * (ds.size / batch_size)),\n",
        "                           \n",
        "                           epochs=50, \n",
        "                           callbacks=[early_stopping, model_checkpoint, clr],\n",
        ")\n",
        "# model.fit_generator(\n",
        "#     generator=training_generator,\n",
        "#     steps_per_epoch=ceil(0.8 * (ds.size / batch_size)),\n",
        "\n",
        "#     validation_data=validation_generator,\n",
        "#     validation_steps=ceil(0.2 * (ds.size / batch_size)),\n",
        "\n",
        "#     epochs=50,\n",
        "#     verbose=1\n",
        "# ) "
      ],
      "execution_count": 0,
      "outputs": [
        {
          "output_type": "stream",
          "text": [
            "Epoch 1/50\n",
            "1534/1534 [==============================] - 581s 379ms/step - loss: 1.1901 - acc: 0.6852 - val_loss: 0.7012 - val_acc: 0.7934\n",
            "Epoch 2/50\n",
            "1534/1534 [==============================] - 576s 376ms/step - loss: 0.9570 - acc: 0.7377 - val_loss: 0.6833 - val_acc: 0.7988\n",
            "Epoch 3/50\n",
            "1534/1534 [==============================] - 573s 373ms/step - loss: 1.0452 - acc: 0.7271 - val_loss: 0.7217 - val_acc: 0.7973\n",
            "Epoch 4/50\n",
            "1534/1534 [==============================] - 581s 379ms/step - loss: 0.9975 - acc: 0.7368 - val_loss: 0.6611 - val_acc: 0.8072\n",
            "Epoch 5/50\n",
            "1534/1534 [==============================] - 582s 379ms/step - loss: 0.9213 - acc: 0.7543 - val_loss: 0.6951 - val_acc: 0.8071\n",
            "Epoch 6/50\n",
            "1534/1534 [==============================] - 586s 382ms/step - loss: 1.0163 - acc: 0.7430 - val_loss: 0.6667 - val_acc: 0.8084\n",
            "Epoch 7/50\n",
            "1534/1534 [==============================] - 577s 376ms/step - loss: 0.9185 - acc: 0.7560 - val_loss: 0.6709 - val_acc: 0.8107\n",
            "Epoch 8/50\n",
            "1534/1534 [==============================] - 580s 378ms/step - loss: 0.9213 - acc: 0.7632 - val_loss: 0.6895 - val_acc: 0.8077\n",
            "Epoch 9/50\n",
            "1534/1534 [==============================] - 577s 376ms/step - loss: 0.9695 - acc: 0.7516 - val_loss: 0.6897 - val_acc: 0.8076\n",
            "Epoch 10/50\n",
            "1534/1534 [==============================] - 580s 378ms/step - loss: 0.8921 - acc: 0.7674 - val_loss: 0.6974 - val_acc: 0.8068\n",
            "Epoch 11/50\n",
            "1534/1534 [==============================] - 613s 400ms/step - loss: 0.9246 - acc: 0.7644 - val_loss: 0.7063 - val_acc: 0.8040\n",
            "Epoch 12/50\n",
            "1534/1534 [==============================] - 583s 380ms/step - loss: 0.9157 - acc: 0.7643 - val_loss: 0.7001 - val_acc: 0.8115\n",
            "Epoch 13/50\n",
            "1534/1534 [==============================] - 621s 405ms/step - loss: 0.8747 - acc: 0.7739 - val_loss: 0.7171 - val_acc: 0.8020\n",
            "Epoch 14/50\n",
            "1534/1534 [==============================] - 617s 402ms/step - loss: 0.9127 - acc: 0.7687 - val_loss: 0.6978 - val_acc: 0.8102\n",
            "Epoch 15/50\n",
            "1534/1534 [==============================] - 581s 379ms/step - loss: 0.8744 - acc: 0.7725 - val_loss: 0.7097 - val_acc: 0.8107\n",
            "Epoch 16/50\n",
            "1534/1534 [==============================] - 575s 375ms/step - loss: 0.9022 - acc: 0.7725 - val_loss: 0.7234 - val_acc: 0.8071\n",
            "Epoch 17/50\n",
            "1534/1534 [==============================] - 579s 378ms/step - loss: 0.9048 - acc: 0.7694 - val_loss: 0.7128 - val_acc: 0.8076\n"
          ],
          "name": "stdout"
        }
      ]
    },
    {
      "cell_type": "code",
      "metadata": {
        "id": "8iKBxUsgawf7",
        "colab_type": "code",
        "colab": {}
      },
      "source": [
        "model.save('model.h5')\n"
      ],
      "execution_count": 0,
      "outputs": []
    },
    {
      "cell_type": "code",
      "metadata": {
        "id": "eJXJ66pU3JFg",
        "colab_type": "code",
        "colab": {}
      },
      "source": [
        "model.save_weights('model_weights.h5')"
      ],
      "execution_count": 0,
      "outputs": []
    },
    {
      "cell_type": "code",
      "metadata": {
        "id": "bMFVAcKOEuek",
        "colab_type": "code",
        "colab": {}
      },
      "source": [
        "auth.authenticate_user()\n",
        "gauth = GoogleAuth()\n",
        "gauth.credentials = GoogleCredentials.get_application_default()\n",
        "drive = GoogleDrive(gauth)\n",
        "\n"
      ],
      "execution_count": 0,
      "outputs": []
    },
    {
      "cell_type": "code",
      "metadata": {
        "id": "ajVfzfjlFpUr",
        "colab_type": "code",
        "outputId": "f469ccac-5d98-478d-8a9d-a8da4c3e92dd",
        "colab": {
          "base_uri": "https://localhost:8080/",
          "height": 34
        }
      },
      "source": [
        "uploaded = drive.CreateFile({'title': 'model.h5'})\n",
        "uploaded.SetContentFile('model.h5')\n",
        "uploaded.Upload()\n",
        "# uploaded.Download()\n",
        "print('Uploaded file with ID {}'.format(uploaded.get('id')))"
      ],
      "execution_count": 0,
      "outputs": [
        {
          "output_type": "stream",
          "text": [
            "Uploaded file with ID 1Cf_8N1d2O82dTK47zqef3fjC9CDOXmVg\n"
          ],
          "name": "stdout"
        }
      ]
    },
    {
      "cell_type": "code",
      "metadata": {
        "id": "CFVIMlqNFp9v",
        "colab_type": "code",
        "outputId": "984309e1-7e3e-4c12-8350-7d63ede00e4b",
        "colab": {
          "base_uri": "https://localhost:8080/"
        }
      },
      "source": [
        "uploaded = drive.CreateFile({'title': 'model_weights.h5'})\n",
        "uploaded.SetContentFile('model_weights.h5')\n",
        "uploaded.Upload()\n",
        "# uploaded.Download()\n",
        "print('Uploaded file with ID {}'.format(uploaded.get('id')))"
      ],
      "execution_count": 0,
      "outputs": [
        {
          "output_type": "stream",
          "text": [
            "Uploaded file with ID 1j8cj4hc0ea1ljlBhjaNVKZbpzIcdmUHZ\n"
          ],
          "name": "stdout"
        }
      ]
    }
  ]
}